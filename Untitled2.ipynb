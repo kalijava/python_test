{
 "cells": [
  {
   "cell_type": "code",
   "execution_count": 11,
   "id": "6a873c1f",
   "metadata": {},
   "outputs": [
    {
     "name": "stdout",
     "output_type": "stream",
     "text": [
      "entrer chaque  element et apuyer sur espace kamga francis\n",
      "\n",
      " votre liste est ['kamga', 'francis']\n"
     ]
    }
   ],
   "source": [
    "list1=input(\"entrer chaque  element et apuyer sur espace \")\n",
    "list1=list1.split()\n",
    "print(\"\\n votre liste est\",list1)"
   ]
  },
  {
   "cell_type": "code",
   "execution_count": 14,
   "id": "4e19a207",
   "metadata": {},
   "outputs": [
    {
     "name": "stdout",
     "output_type": "stream",
     "text": [
      "voici votre liste_impair [1, 9, 25, 49, 81]\n"
     ]
    }
   ],
   "source": [
    "#une methode simple de creer des liste\n",
    "#creation d une liste qui contient le carre des nombres impaires entre 1 et 10\n",
    "list_impair=[x**2 for x in range(1,10) if x%2==1]\n",
    "print(\"voici votre liste_impair\",list_impair)\n"
   ]
  },
  {
   "cell_type": "code",
   "execution_count": 17,
   "id": "67d7849d",
   "metadata": {},
   "outputs": [
    {
     "name": "stdout",
     "output_type": "stream",
     "text": [
      "\n",
      "info list ['kamga', 'francis', 'datascientist']\n",
      "\n",
      "info list ['kamga', 'francis', 'datascientist', ['bacD', 'licence']]\n",
      "\n",
      "info list ['kamga', 'francis', 'datascientist']\n",
      "\n",
      "info list ['kamga', 'francis', 'datascientist', 'bacD', 'licence']\n"
     ]
    }
   ],
   "source": [
    "#petit manipulation des fonctions integres aux listes\n",
    "lst2=[\"kamga\",\"francis\",\"datascientist\"]\n",
    "print(\"\\ninfo list\",lst2)\n",
    "lst2.append([\"bacD\",\"licence\"])\n",
    "print(\"\\ninfo list\",lst2)\n",
    "lst2.pop(len(lst2)-1)\n",
    "print(\"\\ninfo list\",lst2)\n",
    "lst2.extend([\"bacD\",\"licence\"])\n",
    "print(\"\\ninfo list\",lst2)\n",
    "\n",
    "\n"
   ]
  },
  {
   "cell_type": "code",
   "execution_count": 23,
   "id": "fa9695b7",
   "metadata": {},
   "outputs": [
    {
     "name": "stdout",
     "output_type": "stream",
     "text": [
      "les 10 premiers chiffres [0, 1, 2, 3, 4, 5, 6, 7, 8, 9]\n",
      "[0, 1, 2, 3, 4, 5, 6, 7]\n",
      "[5, 6, 7, 8]\n"
     ]
    }
   ],
   "source": [
    "#decoupage d` une liste\n",
    "chiffre=[i for i in range(10)]\n",
    "print(\"les 10 premiers chiffres\",chiffre)\n",
    "#les 07 premiers chiffres\n",
    "print(chiffre[:-2])\n",
    "#\n",
    "print(chiffre[-5:-1])\n"
   ]
  }
 ],
 "metadata": {
  "kernelspec": {
   "display_name": "Python 3 (ipykernel)",
   "language": "python",
   "name": "python3"
  },
  "language_info": {
   "codemirror_mode": {
    "name": "ipython",
    "version": 3
   },
   "file_extension": ".py",
   "mimetype": "text/x-python",
   "name": "python",
   "nbconvert_exporter": "python",
   "pygments_lexer": "ipython3",
   "version": "3.9.13"
  }
 },
 "nbformat": 4,
 "nbformat_minor": 5
}
