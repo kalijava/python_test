{
 "cells": [
  {
   "cell_type": "code",
   "execution_count": 10,
   "id": "adc9236b",
   "metadata": {},
   "outputs": [
    {
     "name": "stdout",
     "output_type": "stream",
     "text": [
      "3...2...1...booom\n"
     ]
    }
   ],
   "source": [
    "import time\n",
    "i=3\n",
    "for j in  reversed(range(3 +1)):\n",
    "    if(j>0):\n",
    "        print(j,end=\"...\")\n",
    "        time.sleep(1)\n",
    "    else:\n",
    "        \n",
    "        print(\"booom\")"
   ]
  },
  {
   "cell_type": "code",
   "execution_count": null,
   "id": "eba21dc9",
   "metadata": {},
   "outputs": [],
   "source": []
  }
 ],
 "metadata": {
  "kernelspec": {
   "display_name": "Python 3 (ipykernel)",
   "language": "python",
   "name": "python3"
  },
  "language_info": {
   "codemirror_mode": {
    "name": "ipython",
    "version": 3
   },
   "file_extension": ".py",
   "mimetype": "text/x-python",
   "name": "python",
   "nbconvert_exporter": "python",
   "pygments_lexer": "ipython3",
   "version": "3.9.13"
  }
 },
 "nbformat": 4,
 "nbformat_minor": 5
}
