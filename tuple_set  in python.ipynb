{
 "cells": [
  {
   "cell_type": "code",
   "execution_count": 4,
   "id": "a9a50ec6",
   "metadata": {},
   "outputs": [
    {
     "ename": "TypeError",
     "evalue": "'tuple' object does not support item assignment",
     "output_type": "error",
     "traceback": [
      "\u001b[0;31m---------------------------------------------------------------------------\u001b[0m",
      "\u001b[0;31mTypeError\u001b[0m                                 Traceback (most recent call last)",
      "\u001b[0;32m/tmp/ipykernel_28592/3033473693.py\u001b[0m in \u001b[0;36m<module>\u001b[0;34m\u001b[0m\n\u001b[1;32m      1\u001b[0m \u001b[0mtuple_info\u001b[0m\u001b[0;34m=\u001b[0m\u001b[0;34m(\u001b[0m\u001b[0;34m'kamga'\u001b[0m\u001b[0;34m,\u001b[0m\u001b[0;34m'fotso'\u001b[0m\u001b[0;34m,\u001b[0m\u001b[0;34m'datascientist'\u001b[0m\u001b[0;34m)\u001b[0m\u001b[0;34m\u001b[0m\u001b[0;34m\u001b[0m\u001b[0m\n\u001b[1;32m      2\u001b[0m \u001b[0;31m#les tuples sont non modifiables\u001b[0m\u001b[0;34m\u001b[0m\u001b[0;34m\u001b[0m\u001b[0m\n\u001b[0;32m----> 3\u001b[0;31m \u001b[0mtuple_info\u001b[0m\u001b[0;34m[\u001b[0m\u001b[0;36m1\u001b[0m\u001b[0;34m]\u001b[0m\u001b[0;34m=\u001b[0m\u001b[0;34m\"francis\"\u001b[0m\u001b[0;34m\u001b[0m\u001b[0;34m\u001b[0m\u001b[0m\n\u001b[0m",
      "\u001b[0;31mTypeError\u001b[0m: 'tuple' object does not support item assignment"
     ]
    }
   ],
   "source": [
    "tuple_info=('kamga','fotso','datascientist')\n",
    "#les tuples sont non modifiables\n",
    "tuple_info[1]=\"francis\""
   ]
  },
  {
   "cell_type": "code",
   "execution_count": 8,
   "id": "1e585733",
   "metadata": {},
   "outputs": [
    {
     "name": "stdout",
     "output_type": "stream",
     "text": [
      "\n",
      " voici vos informations: \n",
      " kamga \n",
      " francis \n",
      " datascientist\n"
     ]
    }
   ],
   "source": [
    "tuple_info=('kamga','francis','datascientist')\n",
    "nom,prenom,metier=tuple_info\n",
    "print(\"\\n voici vos informations: \\n\",nom,\"\\n\",prenom,\"\\n\",metier)"
   ]
  },
  {
   "cell_type": "code",
   "execution_count": 25,
   "id": "8b5cc778",
   "metadata": {},
   "outputs": [
    {
     "ename": "IndentationError",
     "evalue": "unindent does not match any outer indentation level (<tokenize>, line 12)",
     "output_type": "error",
     "traceback": [
      "\u001b[0;36m  File \u001b[0;32m\"<tokenize>\"\u001b[0;36m, line \u001b[0;32m12\u001b[0m\n\u001b[0;31m    print(\"\\n\",input)\u001b[0m\n\u001b[0m    ^\u001b[0m\n\u001b[0;31mIndentationError\u001b[0m\u001b[0;31m:\u001b[0m unindent does not match any outer indentation level\n"
     ]
    }
   ],
   "source": [
    "# Python program to Print unique rows in a\n",
    "# given boolean matrix using Set with tuples\n",
    "\n",
    "# Function to print unique rows in a given boolean matrix\n",
    "\n",
    "def uniqueRows(input):\n",
    "    \n",
    "\n",
    "\t# convert each row (list) into tuple\n",
    "\t# we are mapping tuple function on each row of\n",
    "\t# input matrix\n",
    "\tinput = map(tuple, input)\n",
    "    print(\"\\n\",input)\n",
    "\n",
    "\t# put all rows in set\n",
    "\tresult = set(input)\n",
    "      print(\"\\n\",result)\n",
    "    print(\"\\n\",list(result))\n",
    "    \n",
    "\n",
    "\t# print all unique rows\n",
    "\tfor row in list(result):\n",
    "\t\tprint (row)\n",
    "\n",
    "# Driver program\n",
    "if __name__ == \"__main__\":\n",
    "\tinput = [[0, 1, 0, 0, 1],\n",
    "\t\t\t[1, 0, 1, 1, 0],\n",
    "\t\t\t[0, 1, 0, 0, 1],\n",
    "\t\t\t[1, 1, 1, 0, 0]]\n",
    "\tuniqueRows(input)\n",
    "\n",
    "            \n",
    "    "
   ]
  },
  {
   "cell_type": "code",
   "execution_count": 3,
   "id": "80913e14",
   "metadata": {},
   "outputs": [
    {
     "name": "stdout",
     "output_type": "stream",
     "text": [
      "\n",
      " <map object at 0x7fbaa73a02b0>\n",
      "\n",
      " {(0, 1, 0, 0, 1), (1, 0, 1, 1, 0), (1, 1, 1, 0, 0)}\n",
      "\n",
      " [(0, 1, 0, 0, 1), (1, 0, 1, 1, 0), (1, 1, 1, 0, 0)]\n"
     ]
    }
   ],
   "source": [
    "input=[[0, 1, 0, 0, 1],\n",
    "            [1, 0, 1, 1, 0],\n",
    "            [0, 1, 0, 0, 1],\n",
    "            [1, 1, 1, 0, 0]]\n",
    "input = map(tuple, input)\n",
    "print(\"\\n\",input)\n",
    "result = set(input)\n",
    "print(\"\\n\",result)\n",
    "print(\"\\n\",list(result))"
   ]
  },
  {
   "cell_type": "code",
   "execution_count": 1,
   "id": "f0dd2652",
   "metadata": {},
   "outputs": [
    {
     "name": "stdout",
     "output_type": "stream",
     "text": [
      "[[1, 1, 1, 0, 0], [0, 1, 0, 0, 1], [1, 0, 1, 1, 0]]\n"
     ]
    }
   ],
   "source": [
    "input=[[0, 1, 0, 0, 1],\n",
    "            [1, 0, 1, 1, 0],\n",
    "            [0, 1, 0, 0, 1],\n",
    "            [1, 1, 1, 0, 0]]\n",
    "rep=[]\n",
    "rep.append(input[len(input)-1])\n",
    "\n",
    "\n",
    "\n",
    "for i in range(len(input)):\n",
    "    for j in range(i+1,len(input)):\n",
    "        if(((input[i]==input[j]) and (input[i] not in rep))or((input[i]!=input[j]) and (input[i] not in rep))):\n",
    "            rep.append(input[i])\n",
    "print(rep)           "
   ]
  },
  {
   "cell_type": "code",
   "execution_count": 8,
   "id": "469b57ed",
   "metadata": {},
   "outputs": [
    {
     "name": "stdout",
     "output_type": "stream",
     "text": [
      "\n",
      " voici vos informations {'fotso', 'kamga', 'francis', 'datascientist'}\n",
      "\n",
      " voici vos informations {'tony', 'kounga', 'kamga', 'tchassem', 'fotso', 'francis', 'datascientist'}\n",
      "{'kounga', 'kamga', 'tchassem', 'fotso', 'francis', 'datascientist'}\n"
     ]
    }
   ],
   "source": [
    "# quelques petits operations sur les sets\n",
    "tab=[\"kamga\",\"francis\",\"fotso\",\"datascientist\"]\n",
    "tab=set(tab)\n",
    "print(\"\\n voici vos informations\",tab)\n",
    "\n",
    "tab.update([\"tchassem\",\"kounga\",\"tony\",\"datascientist\"])\n",
    "print(\"\\n voici vos informations\",tab)\n",
    "\n",
    "tab.discard(\"tony\")\n",
    "print(tab)\n",
    "\n"
   ]
  },
  {
   "cell_type": "code",
   "execution_count": 12,
   "id": "39fee506",
   "metadata": {},
   "outputs": [
    {
     "name": "stdout",
     "output_type": "stream",
     "text": [
      "{'nom': 'kamga fotso', 'prenom': 'francis', 'metier': 'datascentist', 'diplome': {'bac', 'master', 'licence'}}\n"
     ]
    }
   ],
   "source": [
    "print(dict([(\"nom\",\"kamga fotso\"),(\"prenom\",\"francis\"),(\"metier\",\"datascentist\"),(\"diplome\",{\"bac\",\"licence\",\"master\"})]))"
   ]
  },
  {
   "cell_type": "code",
   "execution_count": 17,
   "id": "7472eb03",
   "metadata": {},
   "outputs": [
    {
     "name": "stdout",
     "output_type": "stream",
     "text": [
      "{'lotto': [12, 13, 44]}\n"
     ]
    }
   ],
   "source": [
    "dic1={}\n",
    "dic1.update({\"lotto\":[12,13,44]})\n",
    "print(dic1)"
   ]
  }
 ],
 "metadata": {
  "kernelspec": {
   "display_name": "Python 3 (ipykernel)",
   "language": "python",
   "name": "python3"
  },
  "language_info": {
   "codemirror_mode": {
    "name": "ipython",
    "version": 3
   },
   "file_extension": ".py",
   "mimetype": "text/x-python",
   "name": "python",
   "nbconvert_exporter": "python",
   "pygments_lexer": "ipython3",
   "version": "3.9.13"
  }
 },
 "nbformat": 4,
 "nbformat_minor": 5
}
